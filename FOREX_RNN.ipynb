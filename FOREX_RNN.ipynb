{
 "cells": [
  {
   "cell_type": "code",
   "execution_count": 2,
   "metadata": {},
   "outputs": [],
   "source": [
    "# Importing the libraries\n",
    "import numpy as np\n",
    "import matplotlib.pyplot as plt\n",
    "import pandas as pd\n",
    "from sklearn.preprocessing import MinMaxScaler"
   ]
  },
  {
   "cell_type": "code",
   "execution_count": 20,
   "metadata": {
    "scrolled": true
   },
   "outputs": [
    {
     "name": "stdout",
     "output_type": "stream",
     "text": [
      "training_set shape (2610, 1)\n",
      "X_train shape (2159, 60, 1)\n",
      "y_train shape (2159, 1)\n",
      "X_test shape (391, 60, 1)\n",
      "y_test shape (391, 1)\n"
     ]
    },
    {
     "name": "stderr",
     "output_type": "stream",
     "text": [
      "/home/ansonl/.local/lib/python3.5/site-packages/ipykernel_launcher.py:13: SettingWithCopyWarning: \n",
      "A value is trying to be set on a copy of a slice from a DataFrame.\n",
      "Try using .loc[row_indexer,col_indexer] = value instead\n",
      "\n",
      "See the caveats in the documentation: http://pandas.pydata.org/pandas-docs/stable/indexing.html#indexing-view-versus-copy\n",
      "  del sys.path[0]\n",
      "/home/ansonl/.local/lib/python3.5/site-packages/pandas/core/frame.py:3163: SettingWithCopyWarning: \n",
      "A value is trying to be set on a copy of a slice from a DataFrame\n",
      "\n",
      "See the caveats in the documentation: http://pandas.pydata.org/pandas-docs/stable/indexing.html#indexing-view-versus-copy\n",
      "  self._where(-key, value, inplace=True)\n"
     ]
    }
   ],
   "source": [
    "# Data input and preprocessing\n",
    "\n",
    "# Filenames:\n",
    "# DEXCAUS.csv  DEXJPUS.csv  DEXMXUS.csv  DEXUSUK.csv DEXCHUS.csv  DEXKOUS.csv  DEXUSEU.csv  DTWEXM.csv\n",
    "\n",
    "# Reads in currency exchange rate data\n",
    "filename='DEXUSEU' # Filename\n",
    "dataset = pd.read_csv('data/'+filename+'.csv') # Reads in CSV file\n",
    "exchangevalues = dataset.iloc[:, 1:2] # Selects columns\n",
    "\n",
    "# Replaces missing data (represented by '.') with zeros ('0')\n",
    "mask=exchangevalues=='.'\n",
    "exchangevalues[mask] = '0'\n",
    "\n",
    "# Reshapes column into form compatible with RNN inputs\n",
    "exchangevalues=np.array(exchangevalues)\n",
    "exchangevalues=np.matrix([float(x) for x in exchangevalues])\n",
    "exchangevalues=exchangevalues.transpose()\n",
    "\n",
    "# Fills in missing and outlier values by taking average between adjacent timesteps\n",
    "mean,std=np.mean(exchangevalues),np.std(exchangevalues) # Computes mean and std\n",
    "indices = [i for i ,x in enumerate(exchangevalues) if x<mean-2.5*std] # Finds indices of zero and outlier values\n",
    "for i in indices:\n",
    "    # First, checks the initial and final elements of the list\n",
    "    # If any of these are zero, set them to be equal to their adjacent values\n",
    "    if i==0:\n",
    "        exchangevalues[i] = exchangevalues[i+1]\n",
    "    elif i==len(exchangevalues)-1:\n",
    "        exchangevalues[i] = exchangevalues[i-1]\n",
    "    \n",
    "    # For the rest of the elements, set them to be the average of their adjacent values\n",
    "    exchangevalues[i] = 0.5*(exchangevalues[i+1]+exchangevalues[i-1]) \n",
    "    \n",
    "# Initializes the training set\n",
    "training_set = exchangevalues\n",
    "N_total_timesteps = len(training_set) # The total number of timesteps in the dataset\n",
    "\n",
    "# Feature Scaling\n",
    "sc = MinMaxScaler(feature_range = (0, 1))\n",
    "training_set_scaled = sc.fit_transform(training_set)\n",
    "\n",
    "# Train/test set parameters\n",
    "N_timesteps = 60 # Number of timesteps in each training epoch\n",
    "N_test_timesteps = int(0.15*len(training_set_scaled)) # Number of timesteps for the test set\n",
    "\n",
    "# Creating a data structure with N timesteps and 1 output\n",
    "X_train = []\n",
    "y_train = []\n",
    "for i in range(N_timesteps, len(training_set)-N_test_timesteps):\n",
    "    X_train.append(training_set_scaled[i-N_timesteps:i, 0])\n",
    "    y_train.append(training_set_scaled[i, 0])\n",
    "X_train, y_train = np.array(X_train), np.array(y_train)\n",
    "\n",
    "X_test = []\n",
    "y_test = []\n",
    "for i in range(len(training_set)-N_test_timesteps, len(training_set)):\n",
    "    X_test.append(training_set_scaled[i-N_timesteps:i, 0])\n",
    "    y_test.append(training_set_scaled[i, 0])\n",
    "X_test, y_test = np.array(X_test), np.array(y_test)\n",
    "\n",
    "# Reshaping\n",
    "X_train = np.reshape(X_train, (X_train.shape[0], X_train.shape[1], 1))\n",
    "X_test = np.reshape(X_test, (X_test.shape[0], X_test.shape[1], 1))\n",
    "y_train = np.reshape(y_train, (y_train.shape[0], 1))\n",
    "y_test = np.reshape(y_test, (y_test.shape[0], 1))\n",
    "\n",
    "print('training_set shape',training_set.shape)\n",
    "print('X_train shape',X_train.shape)\n",
    "print('y_train shape',y_train.shape)\n",
    "print('X_test shape',X_test.shape)\n",
    "print('y_test shape',y_test.shape)"
   ]
  },
  {
   "cell_type": "code",
   "execution_count": 4,
   "metadata": {},
   "outputs": [
    {
     "name": "stderr",
     "output_type": "stream",
     "text": [
      "Using TensorFlow backend.\n"
     ]
    }
   ],
   "source": [
    "# Importing the Keras libraries and packages\n",
    "from keras.models import Sequential\n",
    "from keras.layers import Dense\n",
    "from keras.layers import LSTM\n",
    "from keras.layers import Dropout\n",
    "\n",
    "# Initialising the RNN\n",
    "regressor = Sequential()\n",
    "\n",
    "# Adding the first LSTM layer and some Dropout regularisation\n",
    "regressor.add(LSTM(units = 50, return_sequences = True, input_shape = (X_train.shape[1], 1)))\n",
    "regressor.add(Dropout(0.2))\n",
    "\n",
    "# Adding a second LSTM layer and some Dropout regularisation\n",
    "regressor.add(LSTM(units = 50, return_sequences = True))\n",
    "regressor.add(Dropout(0.2))\n",
    "\n",
    "# Adding a third LSTM layer and some Dropout regularisation\n",
    "regressor.add(LSTM(units = 50, return_sequences = True))\n",
    "regressor.add(Dropout(0.2))\n",
    "\n",
    "# Adding a fourth LSTM layer and some Dropout regularisation\n",
    "regressor.add(LSTM(units = 50))\n",
    "regressor.add(Dropout(0.2))\n",
    "\n",
    "# Adding the output layer\n",
    "regressor.add(Dense(units = 1))\n",
    "\n",
    "# Compiling the RNN\n",
    "regressor.compile(optimizer = 'adam', loss = 'mean_squared_error')\n"
   ]
  },
  {
   "cell_type": "code",
   "execution_count": 5,
   "metadata": {},
   "outputs": [
    {
     "name": "stdout",
     "output_type": "stream",
     "text": [
      "Epoch 1/20\n",
      "2159/2159 [==============================] - 14s 7ms/step - loss: 0.0564\n",
      "Epoch 2/20\n",
      "2159/2159 [==============================] - 12s 6ms/step - loss: 0.0086\n",
      "Epoch 3/20\n",
      "2159/2159 [==============================] - 12s 5ms/step - loss: 0.0063\n",
      "Epoch 4/20\n",
      "2159/2159 [==============================] - 12s 5ms/step - loss: 0.0070\n",
      "Epoch 5/20\n",
      "2159/2159 [==============================] - 11s 5ms/step - loss: 0.0051\n",
      "Epoch 6/20\n",
      "2159/2159 [==============================] - 11s 5ms/step - loss: 0.0056\n",
      "Epoch 7/20\n",
      "2159/2159 [==============================] - 11s 5ms/step - loss: 0.0048\n",
      "Epoch 8/20\n",
      "2159/2159 [==============================] - 11s 5ms/step - loss: 0.0048\n",
      "Epoch 9/20\n",
      "2159/2159 [==============================] - 11s 5ms/step - loss: 0.0046\n",
      "Epoch 10/20\n",
      "2159/2159 [==============================] - 11s 5ms/step - loss: 0.0046\n",
      "Epoch 11/20\n",
      "2159/2159 [==============================] - 11s 5ms/step - loss: 0.0039\n",
      "Epoch 12/20\n",
      "2159/2159 [==============================] - 11s 5ms/step - loss: 0.0042\n",
      "Epoch 13/20\n",
      "2159/2159 [==============================] - 11s 5ms/step - loss: 0.0039\n",
      "Epoch 14/20\n",
      "2159/2159 [==============================] - 11s 5ms/step - loss: 0.0040\n",
      "Epoch 15/20\n",
      "2159/2159 [==============================] - 11s 5ms/step - loss: 0.0038\n",
      "Epoch 16/20\n",
      "2159/2159 [==============================] - 11s 5ms/step - loss: 0.0042\n",
      "Epoch 17/20\n",
      "2159/2159 [==============================] - 11s 5ms/step - loss: 0.0037\n",
      "Epoch 18/20\n",
      "2159/2159 [==============================] - 11s 5ms/step - loss: 0.0032\n",
      "Epoch 19/20\n",
      "2159/2159 [==============================] - 11s 5ms/step - loss: 0.0036\n",
      "Epoch 20/20\n",
      "2159/2159 [==============================] - 11s 5ms/step - loss: 0.0033\n"
     ]
    },
    {
     "data": {
      "text/plain": [
       "<keras.callbacks.History at 0x7f6f00500c88>"
      ]
     },
     "execution_count": 5,
     "metadata": {},
     "output_type": "execute_result"
    }
   ],
   "source": [
    "# Fit the RNN to the Training set\n",
    "regressor.fit(X_train, y_train, epochs = 20, batch_size = 32)"
   ]
  },
  {
   "cell_type": "code",
   "execution_count": 23,
   "metadata": {},
   "outputs": [],
   "source": [
    "# Makes preductions using the test set and the trained RNN model\n",
    "predicted_values = regressor.predict(X_test)\n",
    "\n",
    "# Inverts feature scaling transformation\n",
    "y_train = sc.inverse_transform(y_train)\n",
    "y_test = sc.inverse_transform(y_test)\n",
    "predicted_values = sc.inverse_transform(predicted_values)"
   ]
  },
  {
   "cell_type": "code",
   "execution_count": 35,
   "metadata": {},
   "outputs": [
    {
     "data": {
      "image/png": "[encoded data removed]",
      "text/plain": [
       "<Figure size 864x432 with 1 Axes>"
      ]
     },
     "metadata": {
      "needs_background": "light"
     },
     "output_type": "display_data"
    }
   ],
   "source": [
    "# Does plotting\n",
    "plt.figure(figsize=(12,6))\n",
    "\n",
    "#plt.plot(range(N_timesteps, len(training_set)-N_test_timesteps),y_train,label = 'Training data')\n",
    "plt.plot(range(len(training_set)-N_test_timesteps, len(training_set)),y_test,label = 'Actual')\n",
    "plt.plot(range(len(training_set)-N_test_timesteps, len(training_set)),predicted_values,label = 'Predicted')\n",
    "#plt.plot(range(len(training_set)-N_test_timesteps, len(training_set)),predicted_values-y_test)\n",
    "\n",
    "\n",
    "plt.xlabel('Time (days)')\n",
    "plt.ylabel('Exchange rate')\n",
    "#plt.ylim(1.2,1.4)\n",
    "plt.legend()\n",
    "plt.grid(True)"
   ]
  }
 ],
 "metadata": {
  "kernelspec": {
   "display_name": "Python 3",
   "language": "python",
   "name": "python3"
  },
  "language_info": {
   "codemirror_mode": {
    "name": "ipython",
    "version": 3
   },
   "file_extension": ".py",
   "mimetype": "text/x-python",
   "name": "python",
   "nbconvert_exporter": "python",
   "pygments_lexer": "ipython3",
   "version": "3.5.2"
  }
 },
 "nbformat": 4,
 "nbformat_minor": 2
}
