{
 "cells": [
  {
   "cell_type": "markdown",
   "metadata": {},
   "source": [
    "This model takes several different currency exchange rates and puts them into the RNN at once as inputs."
   ]
  },
  {
   "cell_type": "code",
   "execution_count": 21,
   "metadata": {},
   "outputs": [],
   "source": [
    "# Importing the libraries\n",
    "import numpy as np\n",
    "import matplotlib.pyplot as plt\n",
    "import pandas as pd\n",
    "from sklearn.preprocessing import MinMaxScaler\n",
    "from IPython.display import clear_output"
   ]
  },
  {
   "cell_type": "code",
   "execution_count": 8,
   "metadata": {
    "scrolled": false
   },
   "outputs": [],
   "source": [
    "def exchangerate_processing(filename):\n",
    "    \"\"\"\n",
    "    Reads in a given file and cleans up all the missing values\n",
    "    \n",
    "    Inputs: filename \n",
    "    Outputs: exchangevalue\n",
    "    \"\"\"\n",
    "    # Reads in currency exchange rate data\n",
    "    dataset = pd.read_csv('data/'+filename) # Reads in CSV file\n",
    "    exchangevalues = dataset.iloc[:, 1:2] # Selects columns\n",
    "\n",
    "    # Replaces missing data (represented by '.') with zeros ('0')\n",
    "    mask=exchangevalues=='.'\n",
    "    exchangevalues[mask] = '0'\n",
    "\n",
    "    # Reformats columns into floats\n",
    "    exchangevalues=np.array(exchangevalues)\n",
    "    exchangevalues=np.matrix([float(x) for x in exchangevalues])\n",
    "    exchangevalues=exchangevalues.transpose()\n",
    "\n",
    "    # Fills in missing and outlier values by taking average between adjacent timesteps\n",
    "    mean,std=np.mean(exchangevalues),np.std(exchangevalues) # Computes mean and std\n",
    "    indices = [i for i ,x in enumerate(exchangevalues) if x<mean-2.5*std] # Finds indices of zero and outlier values\n",
    "    for i in indices:\n",
    "        # First, checks the initial and final elements of the list\n",
    "        # If any of these are zero, set them to be equal to their adjacent values\n",
    "        if i==0:\n",
    "            exchangevalues[i] = exchangevalues[i+1]\n",
    "        elif i==len(exchangevalues)-1:\n",
    "            exchangevalues[i] = exchangevalues[i-1]\n",
    "\n",
    "        # For the rest of the elements, set them to be the average of their adjacent values\n",
    "        exchangevalues[i] = 0.5*(exchangevalues[i+1]+exchangevalues[i-1]) \n",
    "    \n",
    "    return exchangevalues"
   ]
  },
  {
   "cell_type": "code",
   "execution_count": 9,
   "metadata": {},
   "outputs": [
    {
     "name": "stderr",
     "output_type": "stream",
     "text": [
      "/home/ansonl/.local/lib/python3.5/site-packages/ipykernel_launcher.py:14: SettingWithCopyWarning: \n",
      "A value is trying to be set on a copy of a slice from a DataFrame.\n",
      "Try using .loc[row_indexer,col_indexer] = value instead\n",
      "\n",
      "See the caveats in the documentation: http://pandas.pydata.org/pandas-docs/stable/indexing.html#indexing-view-versus-copy\n",
      "  \n",
      "/home/ansonl/.local/lib/python3.5/site-packages/pandas/core/frame.py:3163: SettingWithCopyWarning: \n",
      "A value is trying to be set on a copy of a slice from a DataFrame\n",
      "\n",
      "See the caveats in the documentation: http://pandas.pydata.org/pandas-docs/stable/indexing.html#indexing-view-versus-copy\n",
      "  self._where(-key, value, inplace=True)\n"
     ]
    },
    {
     "name": "stdout",
     "output_type": "stream",
     "text": [
      "(2610, 2)\n"
     ]
    }
   ],
   "source": [
    "# Reads in all the files\n",
    "#input_files=['DEXCAUS.csv', 'DEXJPUS.csv', 'DEXMXUS.csv',\\\n",
    "#             'DEXUSUK.csv', 'DEXCHUS.csv', 'DEXKOUS.csv',\\\n",
    "#             'DEXUSEU.csv']\n",
    "\n",
    "input_files=['DEXUSUK.csv', 'DEXUSEU.csv']\n",
    "\n",
    "# Contructs the training set\n",
    "training_set=np.array([exchangerate_processing(x) for x in input_files])\n",
    "training_set = np.reshape(training_set, (training_set.shape[0], training_set.shape[1]))\n",
    "training_set = training_set.T\n",
    "print(training_set.shape)  "
   ]
  },
  {
   "cell_type": "code",
   "execution_count": 22,
   "metadata": {},
   "outputs": [
    {
     "name": "stdout",
     "output_type": "stream",
     "text": [
      "training_set_scaled shape (2610, 2)\n",
      "X_train shape (2159, 60, 2)\n",
      "y_train shape (2159, 2)\n",
      "X_test shape (391, 60, 2)\n",
      "y_test shape (391, 2)\n"
     ]
    }
   ],
   "source": [
    "# Train/test set parameters\n",
    "N_timesteps = 60 # Number of timesteps in each training epoch\n",
    "N_total_timesteps = training_set.shape[0] # The total number of timesteps in the dataset\n",
    "N_test_timesteps = int(0.15*N_total_timesteps) # Number of timesteps for the test set\n",
    "\n",
    "# Feature Scaling\n",
    "sc = MinMaxScaler(feature_range = (0, 1))\n",
    "training_set_scaled = sc.fit_transform(training_set)\n",
    "print('training_set_scaled shape',training_set_scaled.shape)\n",
    "\n",
    "# Creates a data structure with N timesteps and 1 output\n",
    "X_train ,y_train = [], []\n",
    "for i in range(N_timesteps, N_total_timesteps-N_test_timesteps):\n",
    "    X_train.append(training_set_scaled[i-N_timesteps:i,:])\n",
    "    y_train.append(training_set_scaled[i,:])\n",
    "X_train, y_train = np.array(X_train), np.array(y_train)\n",
    "print('X_train shape',X_train.shape)\n",
    "print('y_train shape',y_train.shape)\n",
    "\n",
    "X_test, y_test = [], []\n",
    "for i in range(N_total_timesteps-N_test_timesteps, len(training_set)):\n",
    "    X_test.append(training_set_scaled[i-N_timesteps:i,:])\n",
    "    y_test.append(training_set_scaled[i,:])\n",
    "X_test, y_test = np.array(X_test), np.array(y_test)\n",
    "\n",
    "# Reshaping\n",
    "#X_train = np.reshape(X_train, (X_train.shape[0], X_train.shape[1], 1))\n",
    "#X_test = np.reshape(X_test, (X_test.shape[0], X_test.shape[1], 1))\n",
    "#y_train = np.reshape(y_train, (y_train.shape[0], 1))\n",
    "#y_test = np.reshape(y_test, (y_test.shape[0], 1))\n",
    "\n",
    "print('X_test shape',X_test.shape)\n",
    "print('y_test shape',y_test.shape)"
   ]
  },
  {
   "cell_type": "markdown",
   "metadata": {},
   "source": [
    "**Parameter tuning the RNN**\n",
    "\n",
    "- Increase the number of timesteps. Note that this also tends to increase the phase delay of the prediction.\n",
    "- Adding more LSTM layers\n",
    "- Adding more neurons to the LSTM layers\n",
    "- For parameter tuning, use scoring = 'neg_mean_squared_error'"
   ]
  },
  {
   "cell_type": "code",
   "execution_count": 23,
   "metadata": {},
   "outputs": [],
   "source": [
    "# Importing the Keras libraries and packages\n",
    "import keras\n",
    "from keras.models import Sequential\n",
    "from keras.layers import Dense\n",
    "from keras.layers import LSTM\n",
    "from keras.layers import Dropout\n",
    "\n",
    "# Initialising the RNN\n",
    "regressor = Sequential()\n",
    "\n",
    "# Define network parameters\n",
    "hidden_units=50\n",
    "dropout_rate=0.4\n",
    "\n",
    "regressor.add(LSTM(units = hidden_units, return_sequences = True, input_shape = (X_train.shape[1], X_train.shape[2])))\n",
    "regressor.add(Dropout(dropout_rate))\n",
    "\n",
    "#regressor.add(LSTM(units = hidden_units, return_sequences = True))\n",
    "#regressor.add(Dropout(dropout_rate))\n",
    "\n",
    "regressor.add(LSTM(units = hidden_units, return_sequences = True))\n",
    "regressor.add(Dropout(dropout_rate))\n",
    "\n",
    "regressor.add(LSTM(units = hidden_units))\n",
    "regressor.add(Dropout(dropout_rate))\n",
    "\n",
    "regressor.add(Dense(units = X_train.shape[2]))\n",
    "\n",
    "regressor.compile(optimizer = 'adam', loss = 'mean_squared_error')\n"
   ]
  },
  {
   "cell_type": "code",
   "execution_count": 24,
   "metadata": {
    "scrolled": true
   },
   "outputs": [
    {
     "name": "stdout",
     "output_type": "stream",
     "text": [
      "_________________________________________________________________\n",
      "Layer (type)                 Output Shape              Param #   \n",
      "=================================================================\n",
      "lstm_13 (LSTM)               (None, 60, 50)            10600     \n",
      "_________________________________________________________________\n",
      "dropout_13 (Dropout)         (None, 60, 50)            0         \n",
      "_________________________________________________________________\n",
      "lstm_14 (LSTM)               (None, 60, 50)            20200     \n",
      "_________________________________________________________________\n",
      "dropout_14 (Dropout)         (None, 60, 50)            0         \n",
      "_________________________________________________________________\n",
      "lstm_15 (LSTM)               (None, 50)                20200     \n",
      "_________________________________________________________________\n",
      "dropout_15 (Dropout)         (None, 50)                0         \n",
      "_________________________________________________________________\n",
      "dense_5 (Dense)              (None, 2)                 102       \n",
      "=================================================================\n",
      "Total params: 51,102\n",
      "Trainable params: 51,102\n",
      "Non-trainable params: 0\n",
      "_________________________________________________________________\n"
     ]
    }
   ],
   "source": [
    "# RNN architecture details\n",
    "regressor.summary()\n",
    "\n",
    "# A class for live plotting the losses as the RNN is trained\n",
    "class PlotLosses(keras.callbacks.Callback):\n",
    "    def on_train_begin(self, logs={}):\n",
    "        self.i = 0\n",
    "        self.x = []\n",
    "        self.losses = []\n",
    "        self.val_losses = []\n",
    "        \n",
    "        self.fig = plt.figure()\n",
    "        \n",
    "        self.logs = []\n",
    "\n",
    "    def on_epoch_end(self, epoch, logs={}):\n",
    "        \n",
    "        self.logs.append(logs)\n",
    "        self.x.append(self.i)\n",
    "        self.losses.append(logs.get('loss'))\n",
    "        self.val_losses.append(logs.get('val_loss'))\n",
    "        self.i += 1\n",
    "        \n",
    "        clear_output(wait=True)\n",
    "        plt.plot(self.x, np.log10(self.losses),'k-', label=\"loss\")\n",
    "        plt.plot(self.x, np.log10(self.val_losses), 'g-', label=\"val_loss\")\n",
    "        plt.legend()\n",
    "        plt.ylabel('log(Loss)')\n",
    "        plt.xlabel('Epoch')\n",
    "        plt.grid(True)\n",
    "\n",
    "        plt.show();\n",
    "        \n",
    "plot_losses = PlotLosses()"
   ]
  },
  {
   "cell_type": "code",
   "execution_count": 25,
   "metadata": {
    "scrolled": true
   },
   "outputs": [
    {
     "data": {
      "image/png": "[encoded data removed]",
      "text/plain": [
       "<Figure size 432x288 with 1 Axes>"
      ]
     },
     "metadata": {
      "needs_background": "light"
     },
     "output_type": "display_data"
    }
   ],
   "source": [
    "# Fit the RNN to the Training set\n",
    "history=regressor.fit(X_train, y_train, validation_split=0.2, epochs = 50, \\\n",
    "                      batch_size = 32, callbacks=[plot_losses])"
   ]
  },
  {
   "cell_type": "code",
   "execution_count": null,
   "metadata": {},
   "outputs": [],
   "source": [
    "# Plots loss vs. epoch from the training\n",
    "\n",
    "# list all data in history\n",
    "print(history.history.keys())\n",
    "\n",
    "# Sets the number of epochs to exclude at the beginning since they tend to be large\n",
    "exclude_epochs = 2\n",
    "\n",
    "plt.plot(history.history['loss'][exclude_epochs:],'k-',label='Training loss')\n",
    "plt.plot(history.history['val_loss'][exclude_epochs:],'g-',label='Validation loss')\n",
    "plt.ylabel('Loss')\n",
    "plt.xlabel('Epoch')\n",
    "plt.legend(loc=1)\n",
    "plt.grid(True)\n",
    "plt.show()\n"
   ]
  },
  {
   "cell_type": "code",
   "execution_count": null,
   "metadata": {},
   "outputs": [],
   "source": [
    "# Makes preductions using the test set and the trained RNN model\n",
    "predicted_values = regressor.predict(X_test)\n",
    "\n",
    "# Inverts feature scaling transformation\n",
    "y_train = sc.inverse_transform(y_train)\n",
    "y_test = sc.inverse_transform(y_test)\n",
    "predicted_values = sc.inverse_transform(predicted_values)\n",
    "\n",
    "print(y_train.shape,y_test.shape,predicted_values.shape)"
   ]
  },
  {
   "cell_type": "code",
   "execution_count": null,
   "metadata": {},
   "outputs": [],
   "source": [
    "# Does plotting\n",
    "\n",
    "\n",
    "#plt.plot(range(N_timesteps, len(training_set)-N_test_timesteps),y_train,label = 'Training data')\n",
    "x_predicted=np.array(range(N_total_timesteps-N_test_timesteps, N_total_timesteps))\n",
    "\n",
    "# Loops over all the different currencies\n",
    "for i,x in enumerate(input_files):\n",
    "    plt.figure(figsize=(10,4))\n",
    "    plt.plot(x_predicted,y_test[:,i],label = 'Actual')\n",
    "    plt.plot(x_predicted,predicted_values[:,i],label = 'Predicted')\n",
    "    plt.title(x)\n",
    "    plt.xlabel('Time (days)')\n",
    "    plt.ylabel('Exchange rate')\n",
    "    plt.legend()\n",
    "    plt.grid(True)\n",
    "    plt.show() "
   ]
  },
  {
   "cell_type": "code",
   "execution_count": null,
   "metadata": {},
   "outputs": [],
   "source": []
  }
 ],
 "metadata": {
  "kernelspec": {
   "display_name": "Python 3",
   "language": "python",
   "name": "python3"
  },
  "language_info": {
   "codemirror_mode": {
    "name": "ipython",
    "version": 3
   },
   "file_extension": ".py",
   "mimetype": "text/x-python",
   "name": "python",
   "nbconvert_exporter": "python",
   "pygments_lexer": "ipython3",
   "version": "3.5.2"
  }
 },
 "nbformat": 4,
 "nbformat_minor": 2
}
